{
  "nbformat": 4,
  "nbformat_minor": 0,
  "metadata": {
    "colab": {
      "provenance": []
    },
    "kernelspec": {
      "name": "python3",
      "display_name": "Python 3"
    },
    "language_info": {
      "name": "python"
    }
  },
  "cells": [
    {
      "cell_type": "markdown",
      "source": [
        "# Entrega #2\n",
        "\n",
        "Con el objetivo de usar de la mejor forma posible la base de datos en la creación del modelo predictivo, se optó por manipular el archivo \"train.csv\" para hacer un preprocesamiento de la información.\n",
        "\n",
        "Para ello, se siguieron las siguientes estrategias:\n",
        "\n",
        "1. Se eliminaron dos columnas que no aportaban para el modelo:\n",
        "  *   \"FAMI_TIENEINTERNET.1\": Está repetida y contiene la misma información que \"FAMI_TIENEINTERNET\"\n",
        "  *   \"ESTU_PRIVADO_LIBERTAD\": Todos los datos que contiene esta columna arrojan un \"No\", por lo que es una variable que no influye en el comportamiento del modelo.\n",
        "\n",
        "\n",
        "\n",
        "2.   Las columnas que contienen un Si/No, se cambiaron por valores booleanos, convirtiendose en True/False respectivamente. Esto para mejorar la eficiencia en la busqueda y manipulación de la información.\n",
        "\n",
        "3. Se hizo uso de One Hot Encoding para columnas que contenían rangos para facilitar mejor el procesamiento de esa información que se ve combinada entre strings e integers.\n",
        "\n",
        "4. Se hizo uso de la codificación ordinal para columnas que contenían rangos que seguían cierta jerarquia (en el caso del rendimiento)\n",
        "\n",
        "5. Para columnas con datos faltantes, se imputaron los datos restantes haciendo uso de la moda (al ser columnas categoricas)\n",
        "\n",
        "\n",
        "\n"
      ],
      "metadata": {
        "id": "zd73PlUGJemD"
      }
    },
    {
      "cell_type": "markdown",
      "source": [
        "## Cargar Datos"
      ],
      "metadata": {
        "id": "tMy-4ZiqG4C2"
      }
    },
    {
      "cell_type": "code",
      "source": [
        "import pandas as pd\n",
        "import numpy as np\n",
        "from sklearn.impute import SimpleImputer\n",
        "from sklearn.preprocessing import StandardScaler, OneHotEncoder\n",
        "import os"
      ],
      "metadata": {
        "id": "0d9emLPG7Ift"
      },
      "execution_count": null,
      "outputs": []
    },
    {
      "cell_type": "code",
      "source": [
        "os.environ['KAGGLE_CONFIG_DIR'] = \".\""
      ],
      "metadata": {
        "id": "g0fQvSdIaFxZ"
      },
      "execution_count": null,
      "outputs": []
    },
    {
      "cell_type": "code",
      "source": [
        "!kaggle competitions download -c udea-ai4eng-20241\n"
      ],
      "metadata": {
        "id": "NGuLtkUbZOSC",
        "colab": {
          "base_uri": "https://localhost:8080/"
        },
        "outputId": "b13ed320-a8ea-41fb-a9a6-93eb65bf6866"
      },
      "execution_count": null,
      "outputs": [
        {
          "output_type": "stream",
          "name": "stdout",
          "text": [
            "Warning: Your Kaggle API key is readable by other users on this system! To fix this, you can run 'chmod 600 ./kaggle.json'\n",
            "Downloading udea-ai4eng-20241.zip to /content\n",
            "100% 21.2M/21.2M [00:00<00:00, 120MB/s] \n",
            "100% 21.2M/21.2M [00:00<00:00, 109MB/s]\n"
          ]
        }
      ]
    },
    {
      "cell_type": "code",
      "source": [
        "!unzip udea-ai4eng-20241.zip"
      ],
      "metadata": {
        "colab": {
          "base_uri": "https://localhost:8080/"
        },
        "id": "Rsjo_apnaZPO",
        "outputId": "e8e3ca80-ce7b-4378-8125-61b809c751ff"
      },
      "execution_count": null,
      "outputs": [
        {
          "output_type": "stream",
          "name": "stdout",
          "text": [
            "Archive:  udea-ai4eng-20241.zip\n",
            "  inflating: submission_example.csv  \n",
            "  inflating: test.csv                \n",
            "  inflating: train.csv               \n"
          ]
        }
      ]
    },
    {
      "cell_type": "code",
      "source": [
        "df = pd.read_csv(\"train.csv\")"
      ],
      "metadata": {
        "id": "ldSyt4X97KHz"
      },
      "execution_count": null,
      "outputs": []
    },
    {
      "cell_type": "code",
      "source": [
        "print(df.isnull().sum())"
      ],
      "metadata": {
        "colab": {
          "base_uri": "https://localhost:8080/"
        },
        "id": "WzbtUVmkaqju",
        "outputId": "2e3c1f41-9002-4e02-e81e-981f1aeb1767"
      },
      "execution_count": null,
      "outputs": [
        {
          "output_type": "stream",
          "name": "stdout",
          "text": [
            "ID                                    0\n",
            "PERIODO                               0\n",
            "ESTU_PRGM_ACADEMICO                   0\n",
            "ESTU_PRGM_DEPARTAMENTO                0\n",
            "ESTU_VALORMATRICULAUNIVERSIDAD     6287\n",
            "ESTU_HORASSEMANATRABAJA           30857\n",
            "FAMI_ESTRATOVIVIENDA              32137\n",
            "FAMI_TIENEINTERNET                26629\n",
            "FAMI_EDUCACIONPADRE               23178\n",
            "FAMI_TIENELAVADORA                39773\n",
            "FAMI_TIENEAUTOMOVIL               43623\n",
            "ESTU_PRIVADO_LIBERTAD                 0\n",
            "ESTU_PAGOMATRICULAPROPIO           6498\n",
            "FAMI_TIENECOMPUTADOR              38103\n",
            "FAMI_TIENEINTERNET.1              26629\n",
            "FAMI_EDUCACIONMADRE               23664\n",
            "RENDIMIENTO_GLOBAL                    0\n",
            "dtype: int64\n"
          ]
        }
      ]
    },
    {
      "cell_type": "code",
      "source": [
        "print(df.columns)"
      ],
      "metadata": {
        "colab": {
          "base_uri": "https://localhost:8080/"
        },
        "id": "EeN_nKoAa007",
        "outputId": "cc47eca6-f187-492a-c43e-54a57a68ae8d"
      },
      "execution_count": null,
      "outputs": [
        {
          "output_type": "stream",
          "name": "stdout",
          "text": [
            "Index(['ID', 'PERIODO', 'ESTU_PRGM_ACADEMICO', 'ESTU_PRGM_DEPARTAMENTO',\n",
            "       'ESTU_VALORMATRICULAUNIVERSIDAD', 'ESTU_HORASSEMANATRABAJA',\n",
            "       'FAMI_ESTRATOVIVIENDA', 'FAMI_TIENEINTERNET', 'FAMI_EDUCACIONPADRE',\n",
            "       'FAMI_TIENELAVADORA', 'FAMI_TIENEAUTOMOVIL', 'ESTU_PRIVADO_LIBERTAD',\n",
            "       'ESTU_PAGOMATRICULAPROPIO', 'FAMI_TIENECOMPUTADOR',\n",
            "       'FAMI_TIENEINTERNET.1', 'FAMI_EDUCACIONMADRE', 'RENDIMIENTO_GLOBAL'],\n",
            "      dtype='object')\n"
          ]
        }
      ]
    },
    {
      "cell_type": "markdown",
      "source": [
        "# Pre-Procesamiento de la Información:"
      ],
      "metadata": {
        "id": "lRH7-GN8guMO"
      }
    },
    {
      "cell_type": "markdown",
      "source": [
        "## 1. Eliminar columnas innecesarias:"
      ],
      "metadata": {
        "id": "A1ttYzjck61H"
      }
    },
    {
      "cell_type": "markdown",
      "source": [
        "### FAMI_TIENEINTERNET (REPETIDA)"
      ],
      "metadata": {
        "id": "1fhbIZ9CtMlF"
      }
    },
    {
      "cell_type": "code",
      "source": [
        "columnas_redundantes = ['FAMI_TIENEINTERNET.1']\n",
        "\n",
        "df = df.drop(columnas_redundantes, axis=1)\n"
      ],
      "metadata": {
        "id": "Mb6X9Jbolgip"
      },
      "execution_count": null,
      "outputs": []
    },
    {
      "cell_type": "markdown",
      "source": [
        "### ESTU_PRIVADO_LIBERTAD (Innecesaria)"
      ],
      "metadata": {
        "id": "hNVAuJz3tR6N"
      }
    },
    {
      "cell_type": "code",
      "source": [
        "columna_privado_libertad = 'ESTU_PRIVADO_LIBERTAD'\n",
        "\n",
        "df = df.drop(columna_privado_libertad, axis=1)"
      ],
      "metadata": {
        "id": "TEoKFH2HtY8c"
      },
      "execution_count": null,
      "outputs": []
    },
    {
      "cell_type": "markdown",
      "source": [
        "## 2. Pasar columnas de \"Si/No\" a \"True/False\":"
      ],
      "metadata": {
        "id": "4heUQb75t5tM"
      }
    },
    {
      "cell_type": "code",
      "source": [
        "import pandas as pd\n",
        "\n",
        "columnas_booleanas = ['FAMI_TIENEINTERNET', 'FAMI_TIENELAVADORA', 'FAMI_TIENEAUTOMOVIL',\n",
        "                      'ESTU_PAGOMATRICULAPROPIO', 'FAMI_TIENECOMPUTADOR']\n",
        "\n",
        "for columna in columnas_booleanas:\n",
        "    print(f\"Valores únicos en la columna '{columna}': {df[columna].unique()}\")\n",
        "\n",
        "for columna in columnas_booleanas:\n",
        "    df[columna] = df[columna].map({'Si': True, 'No': False})"
      ],
      "metadata": {
        "colab": {
          "base_uri": "https://localhost:8080/"
        },
        "id": "K6x2j8vgvtu-",
        "outputId": "cc8ca2ed-c2ea-4592-8741-716d339021de"
      },
      "execution_count": null,
      "outputs": [
        {
          "output_type": "stream",
          "name": "stdout",
          "text": [
            "Valores únicos en la columna 'FAMI_TIENEINTERNET': ['Si' 'No' nan]\n",
            "Valores únicos en la columna 'FAMI_TIENELAVADORA': ['Si' 'No' nan]\n",
            "Valores únicos en la columna 'FAMI_TIENEAUTOMOVIL': ['Si' 'No' nan]\n",
            "Valores únicos en la columna 'ESTU_PAGOMATRICULAPROPIO': ['No' 'Si' nan]\n",
            "Valores únicos en la columna 'FAMI_TIENECOMPUTADOR': ['Si' 'No' nan]\n"
          ]
        }
      ]
    },
    {
      "cell_type": "markdown",
      "source": [
        "## 3. Borrar Strings de Columnas:"
      ],
      "metadata": {
        "id": "Zb5G7sl9AC58"
      }
    },
    {
      "cell_type": "code",
      "source": [
        "print(df['FAMI_ESTRATOVIVIENDA'].head(10))\n"
      ],
      "metadata": {
        "colab": {
          "base_uri": "https://localhost:8080/"
        },
        "id": "MIh4eaAcAK_p",
        "outputId": "fe8264f3-97c2-4a35-9300-b083a673d864"
      },
      "execution_count": null,
      "outputs": [
        {
          "output_type": "stream",
          "name": "stdout",
          "text": [
            "0    Estrato 3\n",
            "1    Estrato 3\n",
            "2    Estrato 3\n",
            "3    Estrato 4\n",
            "4    Estrato 3\n",
            "5    Estrato 5\n",
            "6    Estrato 2\n",
            "7    Estrato 2\n",
            "8    Estrato 1\n",
            "9    Estrato 5\n",
            "Name: FAMI_ESTRATOVIVIENDA, dtype: object\n"
          ]
        }
      ]
    },
    {
      "cell_type": "code",
      "source": [
        "df['FAMI_ESTRATOVIVIENDA'] = df['FAMI_ESTRATOVIVIENDA'].str.replace('Estrato ', '')\n",
        "\n",
        "print(df['FAMI_ESTRATOVIVIENDA'].head(10))\n"
      ],
      "metadata": {
        "colab": {
          "base_uri": "https://localhost:8080/"
        },
        "id": "PFzF_v48ABo0",
        "outputId": "acb09cbc-7754-4ac6-fe77-bd3c6b21ed9a"
      },
      "execution_count": null,
      "outputs": [
        {
          "output_type": "stream",
          "name": "stdout",
          "text": [
            "0    3\n",
            "1    3\n",
            "2    3\n",
            "3    4\n",
            "4    3\n",
            "5    5\n",
            "6    2\n",
            "7    2\n",
            "8    1\n",
            "9    5\n",
            "Name: FAMI_ESTRATOVIVIENDA, dtype: object\n"
          ]
        }
      ]
    },
    {
      "cell_type": "markdown",
      "source": [
        "## 4. Manipular Rangos"
      ],
      "metadata": {
        "id": "-dIX03jY3jRx"
      }
    },
    {
      "cell_type": "markdown",
      "source": [
        "### Rangos de VALORMATRICULAUNIVERSIDAD"
      ],
      "metadata": {
        "id": "jG4dwTRsAcgO"
      }
    },
    {
      "cell_type": "code",
      "source": [
        "print(df['ESTU_VALORMATRICULAUNIVERSIDAD'].value_counts())"
      ],
      "metadata": {
        "colab": {
          "base_uri": "https://localhost:8080/"
        },
        "id": "BjZv7bw55KPJ",
        "outputId": "e0e21778-b3d2-45fb-98e2-b9d973b7def8"
      },
      "execution_count": null,
      "outputs": [
        {
          "output_type": "stream",
          "name": "stdout",
          "text": [
            "ESTU_VALORMATRICULAUNIVERSIDAD\n",
            "Entre 1 millón y menos de 2.5 millones      204048\n",
            "Entre 2.5 millones y menos de 4 millones    127430\n",
            "Menos de 500 mil                             80263\n",
            "Entre 500 mil y menos de 1 millón            78704\n",
            "Entre 4 millones y menos de 5.5 millones     69736\n",
            "Más de 7 millones                            68014\n",
            "Entre 5.5 millones y menos de 7 millones     38490\n",
            "No pagó matrícula                            19528\n",
            "Name: count, dtype: int64\n"
          ]
        }
      ]
    },
    {
      "cell_type": "code",
      "source": [
        "import pandas as pd\n",
        "\n",
        "\n",
        "encoded_df = pd.get_dummies(df['ESTU_VALORMATRICULAUNIVERSIDAD'])\n",
        "\n",
        "df = pd.concat([df, encoded_df], axis=1)\n",
        "\n",
        "df.drop('ESTU_VALORMATRICULAUNIVERSIDAD', axis=1, inplace=True)\n",
        "\n",
        "print(df)\n"
      ],
      "metadata": {
        "colab": {
          "base_uri": "https://localhost:8080/"
        },
        "id": "ZHZlOKqF9QrO",
        "outputId": "684344bc-387c-4dba-871d-169ac1dc7992"
      },
      "execution_count": null,
      "outputs": [
        {
          "output_type": "stream",
          "name": "stdout",
          "text": [
            "            ID  PERIODO                  ESTU_PRGM_ACADEMICO  \\\n",
            "0       904256    20212                           ENFERMERIA   \n",
            "1       645256    20212                              DERECHO   \n",
            "2       308367    20203                MERCADEO Y PUBLICIDAD   \n",
            "3       470353    20195           ADMINISTRACION DE EMPRESAS   \n",
            "4       989032    20212                           PSICOLOGIA   \n",
            "...        ...      ...                                  ...   \n",
            "692495   25096    20195                             BIOLOGIA   \n",
            "692496  754213    20212                           PSICOLOGIA   \n",
            "692497  504185    20183  ADMINISTRACIÓN EN SALUD OCUPACIONAL   \n",
            "692498  986620    20195                           PSICOLOGIA   \n",
            "692499  933374    20195                           PSICOLOGIA   \n",
            "\n",
            "       ESTU_PRGM_DEPARTAMENTO ESTU_HORASSEMANATRABAJA FAMI_ESTRATOVIVIENDA  \\\n",
            "0                      BOGOTÁ       Menos de 10 horas                    3   \n",
            "1                   ATLANTICO                       0                    3   \n",
            "2                      BOGOTÁ         Más de 30 horas                    3   \n",
            "3                   SANTANDER                       0                    4   \n",
            "4                   ANTIOQUIA     Entre 21 y 30 horas                    3   \n",
            "...                       ...                     ...                  ...   \n",
            "692495             LA GUAJIRA     Entre 11 y 20 horas                    2   \n",
            "692496        NORTE SANTANDER         Más de 30 horas                    3   \n",
            "692497                 BOGOTÁ       Menos de 10 horas                    3   \n",
            "692498                 TOLIMA       Menos de 10 horas                    1   \n",
            "692499              ANTIOQUIA         Más de 30 horas                    4   \n",
            "\n",
            "       FAMI_TIENEINTERNET                 FAMI_EDUCACIONPADRE  \\\n",
            "0                    True    Técnica o tecnológica incompleta   \n",
            "1                   False      Técnica o tecnológica completa   \n",
            "2                    True  Secundaria (Bachillerato) completa   \n",
            "3                    True                             No sabe   \n",
            "4                    True                   Primaria completa   \n",
            "...                   ...                                 ...   \n",
            "692495               True  Secundaria (Bachillerato) completa   \n",
            "692496               True                 Primaria incompleta   \n",
            "692497               True  Secundaria (Bachillerato) completa   \n",
            "692498              False                   Primaria completa   \n",
            "692499               True  Secundaria (Bachillerato) completa   \n",
            "\n",
            "       FAMI_TIENELAVADORA FAMI_TIENEAUTOMOVIL  ...  \\\n",
            "0                    True                True  ...   \n",
            "1                    True               False  ...   \n",
            "2                    True               False  ...   \n",
            "3                    True               False  ...   \n",
            "4                    True                True  ...   \n",
            "...                   ...                 ...  ...   \n",
            "692495               True               False  ...   \n",
            "692496               True               False  ...   \n",
            "692497               True               False  ...   \n",
            "692498              False               False  ...   \n",
            "692499               True                True  ...   \n",
            "\n",
            "                         FAMI_EDUCACIONMADRE RENDIMIENTO_GLOBAL  \\\n",
            "0                                  Postgrado         medio-alto   \n",
            "1           Técnica o tecnológica incompleta               bajo   \n",
            "2         Secundaria (Bachillerato) completa               bajo   \n",
            "3         Secundaria (Bachillerato) completa               alto   \n",
            "4                          Primaria completa         medio-bajo   \n",
            "...                                      ...                ...   \n",
            "692495  Secundaria (Bachillerato) incompleta         medio-alto   \n",
            "692496  Secundaria (Bachillerato) incompleta               bajo   \n",
            "692497  Secundaria (Bachillerato) incompleta         medio-bajo   \n",
            "692498                     Primaria completa               bajo   \n",
            "692499        Técnica o tecnológica completa               alto   \n",
            "\n",
            "       Entre 1 millón y menos de 2.5 millones  \\\n",
            "0                                       False   \n",
            "1                                       False   \n",
            "2                                       False   \n",
            "3                                       False   \n",
            "4                                       False   \n",
            "...                                       ...   \n",
            "692495                                  False   \n",
            "692496                                  False   \n",
            "692497                                   True   \n",
            "692498                                  False   \n",
            "692499                                  False   \n",
            "\n",
            "       Entre 2.5 millones y menos de 4 millones  \\\n",
            "0                                         False   \n",
            "1                                          True   \n",
            "2                                          True   \n",
            "3                                         False   \n",
            "4                                          True   \n",
            "...                                         ...   \n",
            "692495                                    False   \n",
            "692496                                     True   \n",
            "692497                                    False   \n",
            "692498                                     True   \n",
            "692499                                    False   \n",
            "\n",
            "        Entre 4 millones y menos de 5.5 millones  \\\n",
            "0                                          False   \n",
            "1                                          False   \n",
            "2                                          False   \n",
            "3                                           True   \n",
            "4                                          False   \n",
            "...                                          ...   \n",
            "692495                                     False   \n",
            "692496                                     False   \n",
            "692497                                     False   \n",
            "692498                                     False   \n",
            "692499                                     False   \n",
            "\n",
            "        Entre 5.5 millones y menos de 7 millones  \\\n",
            "0                                           True   \n",
            "1                                          False   \n",
            "2                                          False   \n",
            "3                                          False   \n",
            "4                                          False   \n",
            "...                                          ...   \n",
            "692495                                     False   \n",
            "692496                                     False   \n",
            "692497                                     False   \n",
            "692498                                     False   \n",
            "692499                                      True   \n",
            "\n",
            "        Entre 500 mil y menos de 1 millón  Menos de 500 mil  \\\n",
            "0                                   False             False   \n",
            "1                                   False             False   \n",
            "2                                   False             False   \n",
            "3                                   False             False   \n",
            "4                                   False             False   \n",
            "...                                   ...               ...   \n",
            "692495                               True             False   \n",
            "692496                              False             False   \n",
            "692497                              False             False   \n",
            "692498                              False             False   \n",
            "692499                              False             False   \n",
            "\n",
            "        Más de 7 millones  No pagó matrícula  \n",
            "0                   False              False  \n",
            "1                   False              False  \n",
            "2                   False              False  \n",
            "3                   False              False  \n",
            "4                   False              False  \n",
            "...                   ...                ...  \n",
            "692495              False              False  \n",
            "692496              False              False  \n",
            "692497              False              False  \n",
            "692498              False              False  \n",
            "692499              False              False  \n",
            "\n",
            "[692500 rows x 22 columns]\n"
          ]
        }
      ]
    },
    {
      "cell_type": "markdown",
      "source": [
        "### Rangos de ESTU_HORASSEMANA"
      ],
      "metadata": {
        "id": "Mfw4UXFgAk1o"
      }
    },
    {
      "cell_type": "code",
      "source": [
        "print(df['ESTU_HORASSEMANATRABAJA'].value_counts())"
      ],
      "metadata": {
        "colab": {
          "base_uri": "https://localhost:8080/"
        },
        "id": "-udcD8uuAoyd",
        "outputId": "8e238369-4831-485d-86ce-dd49e9b26c82"
      },
      "execution_count": null,
      "outputs": [
        {
          "output_type": "stream",
          "name": "stdout",
          "text": [
            "ESTU_HORASSEMANATRABAJA\n",
            "Más de 30 horas        249352\n",
            "0                      116550\n",
            "Entre 11 y 20 horas    115857\n",
            "Entre 21 y 30 horas     92693\n",
            "Menos de 10 horas       87191\n",
            "Name: count, dtype: int64\n"
          ]
        }
      ]
    },
    {
      "cell_type": "code",
      "source": [
        "encoded_df = pd.get_dummies(df['ESTU_HORASSEMANATRABAJA'], prefix='Horas_Trabajo')\n",
        "\n",
        "df = pd.concat([df, encoded_df], axis=1)\n",
        "\n",
        "df.drop('ESTU_HORASSEMANATRABAJA', axis=1, inplace=True)\n"
      ],
      "metadata": {
        "id": "gVIB85nbArG2"
      },
      "execution_count": null,
      "outputs": []
    },
    {
      "cell_type": "markdown",
      "source": [
        "### Implementar codificación ordinal para el rendimiento:"
      ],
      "metadata": {
        "id": "oCN_U-mzgHc1"
      }
    },
    {
      "cell_type": "code",
      "source": [
        "print(df['RENDIMIENTO_GLOBAL'].value_counts())"
      ],
      "metadata": {
        "colab": {
          "base_uri": "https://localhost:8080/"
        },
        "id": "IiWyumtxgOrH",
        "outputId": "2c43cdc4-af57-4c9d-d0b6-a086a8d63192"
      },
      "execution_count": null,
      "outputs": [
        {
          "output_type": "stream",
          "name": "stdout",
          "text": [
            "RENDIMIENTO_GLOBAL\n",
            "alto          175619\n",
            "bajo          172987\n",
            "medio-bajo    172275\n",
            "medio-alto    171619\n",
            "Name: count, dtype: int64\n"
          ]
        }
      ]
    },
    {
      "cell_type": "code",
      "source": [
        "mapeo_rangos = {'bajo': 1, 'medio-bajo': 2, 'medio-alto': 3, 'alto': 4}\n",
        "df['RENDIMIENTO_GLOBAL'] = df['RENDIMIENTO_GLOBAL'].map(mapeo_rangos)"
      ],
      "metadata": {
        "id": "iZc-6YDZgRgR"
      },
      "execution_count": null,
      "outputs": []
    },
    {
      "cell_type": "code",
      "source": [
        "print(df['RENDIMIENTO_GLOBAL'].value_counts())"
      ],
      "metadata": {
        "colab": {
          "base_uri": "https://localhost:8080/"
        },
        "id": "tNZRoLNbgUrl",
        "outputId": "2600f4b7-6c3c-4ce7-bded-36b907d42314"
      },
      "execution_count": null,
      "outputs": [
        {
          "output_type": "stream",
          "name": "stdout",
          "text": [
            "RENDIMIENTO_GLOBAL\n",
            "4    175619\n",
            "1    172987\n",
            "2    172275\n",
            "3    171619\n",
            "Name: count, dtype: int64\n"
          ]
        }
      ]
    },
    {
      "cell_type": "markdown",
      "source": [
        "## 5. Borrar datos repetidos:"
      ],
      "metadata": {
        "id": "T4-RLfdAU-uv"
      }
    },
    {
      "cell_type": "code",
      "source": [
        "print(df['ESTU_PRGM_ACADEMICO'].value_counts())"
      ],
      "metadata": {
        "colab": {
          "base_uri": "https://localhost:8080/"
        },
        "id": "PpEzYirrVIro",
        "outputId": "71e8f532-2542-4a87-d668-d4f507a97e0f"
      },
      "execution_count": null,
      "outputs": [
        {
          "output_type": "stream",
          "name": "stdout",
          "text": [
            "ESTU_PRGM_ACADEMICO\n",
            "DERECHO                                                   53244\n",
            "ADMINISTRACION DE EMPRESAS                                51902\n",
            "CONTADURIA PUBLICA                                        39664\n",
            "PSICOLOGIA                                                31932\n",
            "INGENIERIA INDUSTRIAL                                     28481\n",
            "                                                          ...  \n",
            "LICENCIATURA EN ESPAÑOL Y FILOLOGÍA                           1\n",
            "ADMINISTRACION EN NEGOCIOS INTERNACIONALES                    1\n",
            "ADMINISTRACION DE COMERCIO EXTERIOR                           1\n",
            "LICENCIATURA EN EDUCACI¿N F¿SICA RECREACI¿N Y DEPORTES        1\n",
            "PROFESIONAL EN INVESTIGACIÓN CRIMINAL                         1\n",
            "Name: count, Length: 948, dtype: int64\n"
          ]
        }
      ]
    },
    {
      "cell_type": "code",
      "source": [
        "print(df['ESTU_PRGM_ACADEMICO'].unique())"
      ],
      "metadata": {
        "id": "H9cLoHN1VhyE"
      },
      "execution_count": null,
      "outputs": []
    },
    {
      "cell_type": "code",
      "source": [
        "# Convertir todo el texto a minúsculas\n",
        "df['ESTU_PRGM_ACADEMICO'] = df['ESTU_PRGM_ACADEMICO'].str.lower()\n",
        "\n",
        "# Aplicar limpieza de texto adicional si es necesario (eliminar caracteres especiales, etc.)\n",
        "# Por ejemplo, eliminar acentos\n",
        "df['ESTU_PRGM_ACADEMICO'] = df['ESTU_PRGM_ACADEMICO'].str.normalize('NFKD').str.encode('ascii', errors='ignore').str.decode('utf-8')\n",
        "\n",
        "# Mostrar algunos ejemplos de datos normalizados\n",
        "print(df['ESTU_PRGM_ACADEMICO'].head())"
      ],
      "metadata": {
        "id": "duYPyE3GZITx"
      },
      "execution_count": null,
      "outputs": []
    },
    {
      "cell_type": "code",
      "source": [
        "print(df['ESTU_PRGM_ACADEMICO'].unique())"
      ],
      "metadata": {
        "id": "3ijKnFAqZRpB"
      },
      "execution_count": null,
      "outputs": []
    },
    {
      "cell_type": "markdown",
      "source": [
        "## 6. Imputar Datos Faltantes:"
      ],
      "metadata": {
        "id": "v2xWP5QkyA4y"
      }
    },
    {
      "cell_type": "markdown",
      "source": [
        "### Imputar datos de columnas que tienen True/False:"
      ],
      "metadata": {
        "id": "HyjLq0CIz9Mq"
      }
    },
    {
      "cell_type": "code",
      "source": [
        "print(df.isnull().sum())"
      ],
      "metadata": {
        "colab": {
          "base_uri": "https://localhost:8080/"
        },
        "id": "WaSpJ0-NyiCf",
        "outputId": "e5065b98-0e96-4af6-d9b1-222abb3f2034"
      },
      "execution_count": null,
      "outputs": [
        {
          "output_type": "stream",
          "name": "stdout",
          "text": [
            "ID                                              0\n",
            "PERIODO                                         0\n",
            "ESTU_PRGM_ACADEMICO                             0\n",
            "ESTU_PRGM_DEPARTAMENTO                          0\n",
            "FAMI_ESTRATOVIVIENDA                        32137\n",
            "FAMI_TIENEINTERNET                          26629\n",
            "FAMI_EDUCACIONPADRE                         23178\n",
            "FAMI_TIENELAVADORA                          39773\n",
            "FAMI_TIENEAUTOMOVIL                         43623\n",
            "ESTU_PAGOMATRICULAPROPIO                     6498\n",
            "FAMI_TIENECOMPUTADOR                        38103\n",
            "FAMI_EDUCACIONMADRE                         23664\n",
            "RENDIMIENTO_GLOBAL                              0\n",
            "Entre 1 millón y menos de 2.5 millones          0\n",
            "Entre 2.5 millones y menos de 4 millones        0\n",
            "Entre 4 millones y menos de 5.5 millones        0\n",
            "Entre 5.5 millones y menos de 7 millones        0\n",
            "Entre 500 mil y menos de 1 millón               0\n",
            "Menos de 500 mil                                0\n",
            "Más de 7 millones                               0\n",
            "No pagó matrícula                               0\n",
            "Horas_Trabajo_0                                 0\n",
            "Horas_Trabajo_Entre 11 y 20 horas               0\n",
            "Horas_Trabajo_Entre 21 y 30 horas               0\n",
            "Horas_Trabajo_Menos de 10 horas                 0\n",
            "Horas_Trabajo_Más de 30 horas                   0\n",
            "dtype: int64\n"
          ]
        }
      ]
    },
    {
      "cell_type": "code",
      "source": [
        "columnas_booleanas = ['FAMI_TIENEINTERNET', 'FAMI_TIENELAVADORA', 'FAMI_TIENEAUTOMOVIL',\n",
        "                      'ESTU_PAGOMATRICULAPROPIO', 'FAMI_TIENECOMPUTADOR']\n",
        "\n",
        "for columna in columnas_booleanas:\n",
        "    moda = df[columna].mode()[0]\n",
        "    df[columna].fillna(moda, inplace=True)"
      ],
      "metadata": {
        "id": "A34-qrcr0A0k"
      },
      "execution_count": null,
      "outputs": []
    },
    {
      "cell_type": "code",
      "source": [
        "moda_estrato = df['FAMI_ESTRATOVIVIENDA'].mode()[0]  # Obtener la moda\n",
        "df['FAMI_ESTRATOVIVIENDA'].fillna(moda_estrato, inplace=True)"
      ],
      "metadata": {
        "id": "BpVZlddd2mPX"
      },
      "execution_count": null,
      "outputs": []
    },
    {
      "cell_type": "markdown",
      "source": [
        "### Padres y Madres"
      ],
      "metadata": {
        "id": "DKsn-aoHaMh8"
      }
    },
    {
      "cell_type": "code",
      "source": [
        "madres = df['FAMI_EDUCACIONMADRE'].value_counts()\n",
        "padres = df['FAMI_EDUCACIONPADRE'].value_counts()\n",
        "\n",
        "print(madres)\n",
        "print(\"---------------\")\n",
        "print(padres)"
      ],
      "metadata": {
        "colab": {
          "base_uri": "https://localhost:8080/"
        },
        "id": "winICCXMZ2fJ",
        "outputId": "2273e47a-18ca-409a-bac9-a235c3479cea"
      },
      "execution_count": null,
      "outputs": [
        {
          "output_type": "stream",
          "name": "stdout",
          "text": [
            "FAMI_EDUCACIONMADRE\n",
            "Secundaria (Bachillerato) completa      141744\n",
            "Primaria incompleta                      99420\n",
            "Técnica o tecnológica completa           89542\n",
            "Educación profesional completa           85326\n",
            "Secundaria (Bachillerato) incompleta     81012\n",
            "Primaria completa                        56125\n",
            "Postgrado                                46246\n",
            "Técnica o tecnológica incompleta         27533\n",
            "Educación profesional incompleta         22470\n",
            "Ninguno                                  14483\n",
            "No sabe                                   3017\n",
            "No Aplica                                 1918\n",
            "Name: count, dtype: int64\n",
            "---------------\n",
            "FAMI_EDUCACIONPADRE\n",
            "Secundaria (Bachillerato) completa      128289\n",
            "Primaria incompleta                     125675\n",
            "Educación profesional completa           83117\n",
            "Secundaria (Bachillerato) incompleta     71654\n",
            "Técnica o tecnológica completa           62995\n",
            "Primaria completa                        55958\n",
            "Postgrado                                44169\n",
            "Educación profesional incompleta         27084\n",
            "Técnica o tecnológica incompleta         22552\n",
            "Ninguno                                  22008\n",
            "No sabe                                  16592\n",
            "No Aplica                                 9229\n",
            "Name: count, dtype: int64\n"
          ]
        }
      ]
    },
    {
      "cell_type": "code",
      "source": [
        "moda_padre = df['FAMI_EDUCACIONPADRE'].mode()[0]\n",
        "df['FAMI_EDUCACIONPADRE'].fillna(moda_padre, inplace=True)\n",
        "\n",
        "moda_madre = df['FAMI_EDUCACIONMADRE'].mode()[0]\n",
        "df['FAMI_EDUCACIONMADRE'].fillna(moda_madre, inplace=True)"
      ],
      "metadata": {
        "id": "ahJ7rpkyabkx"
      },
      "execution_count": null,
      "outputs": []
    },
    {
      "cell_type": "markdown",
      "source": [
        "### Datos Restantes:\n"
      ],
      "metadata": {
        "id": "VOqoqmUsa9ea"
      }
    },
    {
      "cell_type": "code",
      "source": [
        "moda_rendimiento = df['RENDIMIENTO_GLOBAL'].mode()[0]\n",
        "\n",
        "df['RENDIMIENTO_GLOBAL'].fillna(moda_rendimiento, inplace=True)"
      ],
      "metadata": {
        "id": "Wwn6GCIabD8W"
      },
      "execution_count": null,
      "outputs": []
    },
    {
      "cell_type": "code",
      "source": [
        "moda_programa = df['ESTU_PRGM_DEPARTAMENTO'].mode()[0]\n",
        "\n",
        "df['ESTU_PRGM_DEPARTAMENTO'].fillna(moda_programa, inplace=True)\n"
      ],
      "metadata": {
        "id": "4gHygxGQbrUl"
      },
      "execution_count": null,
      "outputs": []
    },
    {
      "cell_type": "markdown",
      "source": [
        "# Resultados (Por Ahora):"
      ],
      "metadata": {
        "id": "0Y42DFN9gyIu"
      }
    },
    {
      "cell_type": "code",
      "source": [
        "# DATOS FALTANTES\n",
        "print(df.isnull().sum())"
      ],
      "metadata": {
        "id": "23EsFQu8hCuY",
        "outputId": "989946c1-0d2c-442c-ac6e-cdf7a402f7a6",
        "colab": {
          "base_uri": "https://localhost:8080/"
        }
      },
      "execution_count": null,
      "outputs": [
        {
          "output_type": "stream",
          "name": "stdout",
          "text": [
            "ID                                          0\n",
            "PERIODO                                     0\n",
            "ESTU_PRGM_ACADEMICO                         0\n",
            "ESTU_PRGM_DEPARTAMENTO                      0\n",
            "FAMI_ESTRATOVIVIENDA                        0\n",
            "FAMI_TIENEINTERNET                          0\n",
            "FAMI_EDUCACIONPADRE                         0\n",
            "FAMI_TIENELAVADORA                          0\n",
            "FAMI_TIENEAUTOMOVIL                         0\n",
            "ESTU_PAGOMATRICULAPROPIO                    0\n",
            "FAMI_TIENECOMPUTADOR                        0\n",
            "FAMI_EDUCACIONMADRE                         0\n",
            "RENDIMIENTO_GLOBAL                          0\n",
            "Entre 1 millón y menos de 2.5 millones      0\n",
            "Entre 2.5 millones y menos de 4 millones    0\n",
            "Entre 4 millones y menos de 5.5 millones    0\n",
            "Entre 5.5 millones y menos de 7 millones    0\n",
            "Entre 500 mil y menos de 1 millón           0\n",
            "Menos de 500 mil                            0\n",
            "Más de 7 millones                           0\n",
            "No pagó matrícula                           0\n",
            "Horas_Trabajo_0                             0\n",
            "Horas_Trabajo_Entre 11 y 20 horas           0\n",
            "Horas_Trabajo_Entre 21 y 30 horas           0\n",
            "Horas_Trabajo_Menos de 10 horas             0\n",
            "Horas_Trabajo_Más de 30 horas               0\n",
            "dtype: int64\n"
          ]
        }
      ]
    },
    {
      "cell_type": "code",
      "source": [
        "print(df.columns)\n",
        "\n",
        "num_columnas = len(df.columns)\n",
        "print(\"Número de columnas:\", num_columnas)\n"
      ],
      "metadata": {
        "colab": {
          "base_uri": "https://localhost:8080/"
        },
        "id": "gHNYg0JUa3s1",
        "outputId": "864654cf-cdbd-447e-9151-e96405701f37"
      },
      "execution_count": null,
      "outputs": [
        {
          "output_type": "stream",
          "name": "stdout",
          "text": [
            "Index(['ID', 'PERIODO', 'ESTU_PRGM_ACADEMICO', 'ESTU_PRGM_DEPARTAMENTO',\n",
            "       'FAMI_ESTRATOVIVIENDA', 'FAMI_TIENEINTERNET', 'FAMI_EDUCACIONPADRE',\n",
            "       'FAMI_TIENELAVADORA', 'FAMI_TIENEAUTOMOVIL', 'ESTU_PAGOMATRICULAPROPIO',\n",
            "       'FAMI_TIENECOMPUTADOR', 'FAMI_EDUCACIONMADRE', 'RENDIMIENTO_GLOBAL',\n",
            "       'Entre 1 millón y menos de 2.5 millones',\n",
            "       'Entre 2.5 millones y menos de 4 millones',\n",
            "       'Entre 4 millones y menos de 5.5 millones',\n",
            "       'Entre 5.5 millones y menos de 7 millones',\n",
            "       'Entre 500 mil y menos de 1 millón', 'Menos de 500 mil',\n",
            "       'Más de 7 millones', 'No pagó matrícula', 'Horas_Trabajo_0',\n",
            "       'Horas_Trabajo_Entre 11 y 20 horas',\n",
            "       'Horas_Trabajo_Entre 21 y 30 horas', 'Horas_Trabajo_Menos de 10 horas',\n",
            "       'Horas_Trabajo_Más de 30 horas'],\n",
            "      dtype='object')\n",
            "Número de columnas: 26\n"
          ]
        }
      ]
    }
  ]
}